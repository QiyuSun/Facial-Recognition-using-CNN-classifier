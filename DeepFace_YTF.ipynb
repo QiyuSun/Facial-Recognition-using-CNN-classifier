{
 "cells": [
  {
   "cell_type": "code",
   "execution_count": 1,
   "id": "8262c805",
   "metadata": {},
   "outputs": [
    {
     "name": "stdout",
     "output_type": "stream",
     "text": [
      "Found 35093 images belonging to 160 classes.\n",
      "Found 8924 images belonging to 160 classes.\n",
      "Found 3144 images belonging to 160 classes.\n",
      "Wall time: 3.76 s\n"
     ]
    }
   ],
   "source": [
    "%%time\n",
    "from keras.models import Sequential\n",
    "from keras.layers import Conv2D, MaxPooling2D, LocallyConnected2D\n",
    "from keras.layers import Activation, Dropout, Flatten, Dense\n",
    "from keras import applications, regularizers, optimizers\n",
    "#from keras.callbacks import EarlyStopping, ModelCheckpoint\n",
    "#from keras.utils import to_categorical\n",
    "from keras.preprocessing.image import ImageDataGenerator\n",
    "\n",
    "train_datagen = ImageDataGenerator(rescale=1./255)\n",
    "validation_datagen = ImageDataGenerator(rescale=1./255)\n",
    "test_datagen = ImageDataGenerator(rescale=1./255)\n",
    "\n",
    "train_dir = 'D:\\\\frame_baseline_dataset\\\\train'\n",
    "validation_dir = 'D:\\\\frame_baseline_dataset\\\\validation'\n",
    "test_dir = 'D:\\\\frame_baseline_dataset\\\\test'\n",
    "\n",
    "train_generator = train_datagen.flow_from_directory(\n",
    "        directory = train_dir,\n",
    "        target_size=(152, 152),\n",
    "        batch_size=32,\n",
    "        class_mode='categorical',\n",
    "        shuffle=True)\n",
    "\n",
    "validation_generator = validation_datagen.flow_from_directory(\n",
    "        directory = validation_dir,\n",
    "        target_size=(152, 152),\n",
    "        batch_size=32,\n",
    "        class_mode='categorical',\n",
    "        shuffle=True)\n",
    "\n",
    "test_generator = test_datagen.flow_from_directory(\n",
    "        directory = test_dir,\n",
    "        target_size=(152, 152),\n",
    "        batch_size=32,\n",
    "        class_mode='categorical',\n",
    "        shuffle=True)"
   ]
  },
  {
   "cell_type": "markdown",
   "id": "e5501f97",
   "metadata": {},
   "source": [
    "Baseline Model"
   ]
  },
  {
   "cell_type": "code",
   "execution_count": 3,
   "id": "3ef74ff8",
   "metadata": {
    "scrolled": true
   },
   "outputs": [
    {
     "name": "stdout",
     "output_type": "stream",
     "text": [
      "Epoch 1/20\n",
      "10/10 [==============================] - 174s 18s/step - loss: 13.7550 - acc: 0.0956 - val_loss: 8.7873 - val_acc: 0.2500\n",
      "Epoch 2/20\n",
      "10/10 [==============================] - 26s 3s/step - loss: 6.4777 - acc: 0.4295 - val_loss: 2.7930 - val_acc: 0.5830\n",
      "Epoch 3/20\n",
      "10/10 [==============================] - 21s 2s/step - loss: 2.2261 - acc: 0.6455 - val_loss: 1.8307 - val_acc: 0.7129\n",
      "Epoch 4/20\n",
      "10/10 [==============================] - 22s 2s/step - loss: 1.3553 - acc: 0.8175 - val_loss: 1.3628 - val_acc: 0.7900\n",
      "Epoch 5/20\n",
      "10/10 [==============================] - 22s 2s/step - loss: 0.9565 - acc: 0.8553 - val_loss: 0.9933 - val_acc: 0.8486\n",
      "Epoch 6/20\n",
      "10/10 [==============================] - 22s 2s/step - loss: 0.6115 - acc: 0.9199 - val_loss: 0.7207 - val_acc: 0.8878\n",
      "Epoch 7/20\n",
      "10/10 [==============================] - 23s 2s/step - loss: 0.5045 - acc: 0.9204 - val_loss: 0.5506 - val_acc: 0.9183\n",
      "Epoch 8/20\n",
      "10/10 [==============================] - 21s 2s/step - loss: 0.3108 - acc: 0.9582 - val_loss: 0.4320 - val_acc: 0.9360\n",
      "Epoch 9/20\n",
      "10/10 [==============================] - 22s 2s/step - loss: 0.2866 - acc: 0.9511 - val_loss: 0.3578 - val_acc: 0.9434\n",
      "Epoch 10/20\n",
      "10/10 [==============================] - 21s 2s/step - loss: 0.1739 - acc: 0.9780 - val_loss: 0.3053 - val_acc: 0.9539\n",
      "Epoch 11/20\n",
      "10/10 [==============================] - 21s 2s/step - loss: 0.1345 - acc: 0.9823 - val_loss: 0.2676 - val_acc: 0.9583\n",
      "Epoch 12/20\n",
      "10/10 [==============================] - 20s 2s/step - loss: 0.0790 - acc: 0.9906 - val_loss: 0.2250 - val_acc: 0.9668\n",
      "Epoch 13/20\n",
      "10/10 [==============================] - 20s 2s/step - loss: 0.1105 - acc: 0.9833 - val_loss: 0.1960 - val_acc: 0.9720\n",
      "Epoch 14/20\n",
      "10/10 [==============================] - 21s 2s/step - loss: 0.1012 - acc: 0.9921 - val_loss: 0.1478 - val_acc: 0.9743\n",
      "Epoch 15/20\n",
      "10/10 [==============================] - 21s 2s/step - loss: 0.0270 - acc: 0.9914 - val_loss: 0.1641 - val_acc: 0.9594\n",
      "Epoch 16/20\n",
      "10/10 [==============================] - 20s 2s/step - loss: 0.0529 - acc: 0.9930 - val_loss: 0.1439 - val_acc: 0.9718\n",
      "Epoch 17/20\n",
      "10/10 [==============================] - 20s 2s/step - loss: 0.0448 - acc: 0.9984 - val_loss: 0.1092 - val_acc: 0.9764\n",
      "Epoch 18/20\n",
      "10/10 [==============================] - 21s 2s/step - loss: 0.0107 - acc: 1.0000 - val_loss: 0.1041 - val_acc: 0.9807\n",
      "Epoch 19/20\n",
      "10/10 [==============================] - 20s 2s/step - loss: 0.0353 - acc: 0.9810 - val_loss: 0.0975 - val_acc: 0.9826\n",
      "Epoch 20/20\n",
      "10/10 [==============================] - 19s 2s/step - loss: 0.0058 - acc: 1.0000 - val_loss: 0.1109 - val_acc: 0.9790\n"
     ]
    }
   ],
   "source": [
    "model = Sequential()\n",
    "model.add(Conv2D(32, (3, 3), activation='relu', input_shape=(152, 152, 3)))\n",
    "model.add(MaxPooling2D(pool_size=(2, 2)))\n",
    "model.add(Flatten())\n",
    "model.add(Dense(160, activation='softmax'))\n",
    "model.compile(loss='categorical_crossentropy', \n",
    "              optimizer='adam', \n",
    "              metrics=['acc'])\n",
    "history = model.fit(train_generator, \n",
    "                    steps_per_epoch=10, \n",
    "                    epochs=20, \n",
    "                    validation_data=validation_generator)"
   ]
  },
  {
   "cell_type": "code",
   "execution_count": 4,
   "id": "8b5b9547",
   "metadata": {},
   "outputs": [
    {
     "name": "stdout",
     "output_type": "stream",
     "text": [
      "99/99 [==============================] - 18s 182ms/step - loss: 0.0866 - acc: 0.9860\n"
     ]
    },
    {
     "data": {
      "text/plain": [
       "[0.08661671727895737, 0.9860050678253174]"
      ]
     },
     "execution_count": 4,
     "metadata": {},
     "output_type": "execute_result"
    }
   ],
   "source": [
    "model.evaluate(test_generator)"
   ]
  },
  {
   "cell_type": "code",
   "execution_count": 5,
   "id": "fb7f7aee",
   "metadata": {
    "scrolled": true
   },
   "outputs": [
    {
     "data": {
      "text/plain": [
       "{'loss': [14.32179069519043,\n",
       "  4.590353488922119,\n",
       "  1.9782469272613525,\n",
       "  1.2887282371520996,\n",
       "  0.91046142578125,\n",
       "  0.6817697882652283,\n",
       "  0.45335134863853455,\n",
       "  0.2825547456741333,\n",
       "  0.22665366530418396,\n",
       "  0.13553737103939056,\n",
       "  0.18278606235980988,\n",
       "  0.1395702064037323,\n",
       "  0.1041591614484787,\n",
       "  0.12290407717227936,\n",
       "  0.02047988772392273,\n",
       "  0.05079575628042221,\n",
       "  0.060570813715457916,\n",
       "  0.013276641257107258,\n",
       "  0.0245215967297554,\n",
       "  0.004302549175918102],\n",
       " 'acc': [0.14374999701976776,\n",
       "  0.484375,\n",
       "  0.6937500238418579,\n",
       "  0.840624988079071,\n",
       "  0.8687499761581421,\n",
       "  0.9125000238418579,\n",
       "  0.9375,\n",
       "  0.9593750238418579,\n",
       "  0.96875,\n",
       "  0.984375,\n",
       "  0.981249988079071,\n",
       "  0.981249988079071,\n",
       "  0.987500011920929,\n",
       "  0.987500011920929,\n",
       "  0.996874988079071,\n",
       "  0.9937499761581421,\n",
       "  0.996874988079071,\n",
       "  1.0,\n",
       "  0.987500011920929,\n",
       "  1.0],\n",
       " 'val_loss': [8.787297248840332,\n",
       "  2.793011426925659,\n",
       "  1.830733299255371,\n",
       "  1.3628343343734741,\n",
       "  0.9932667016983032,\n",
       "  0.720747709274292,\n",
       "  0.5505954623222351,\n",
       "  0.43200838565826416,\n",
       "  0.3577711582183838,\n",
       "  0.30533063411712646,\n",
       "  0.267583429813385,\n",
       "  0.2249940186738968,\n",
       "  0.1959567815065384,\n",
       "  0.1477782130241394,\n",
       "  0.16414549946784973,\n",
       "  0.143900528550148,\n",
       "  0.10923220962285995,\n",
       "  0.1041112095117569,\n",
       "  0.09745994955301285,\n",
       "  0.11089502274990082],\n",
       " 'val_acc': [0.25,\n",
       "  0.5830345153808594,\n",
       "  0.7129089832305908,\n",
       "  0.7900044918060303,\n",
       "  0.8486104607582092,\n",
       "  0.8878305554389954,\n",
       "  0.9183101654052734,\n",
       "  0.936015248298645,\n",
       "  0.9434110522270203,\n",
       "  0.9539444446563721,\n",
       "  0.9583146572113037,\n",
       "  0.9668310284614563,\n",
       "  0.9719856381416321,\n",
       "  0.9743388891220093,\n",
       "  0.959435224533081,\n",
       "  0.9717615246772766,\n",
       "  0.9763559103012085,\n",
       "  0.9807261228561401,\n",
       "  0.9826310873031616,\n",
       "  0.9790452718734741]}"
      ]
     },
     "execution_count": 5,
     "metadata": {},
     "output_type": "execute_result"
    }
   ],
   "source": [
    "history.history"
   ]
  },
  {
   "cell_type": "code",
   "execution_count": 2,
   "id": "f00a1a67",
   "metadata": {},
   "outputs": [],
   "source": [
    "from matplotlib import pyplot as plt\n",
    "def printacc(history):\n",
    "    loss = history.history['loss']\n",
    "    epochs = range(1, len(loss) + 1)\n",
    "    accuracy = history.history['acc']\n",
    "    val_accuracy = history.history['val_acc']\n",
    "    plt.plot(epochs, accuracy, 'r', label='Training accuracy')\n",
    "    plt.plot(epochs, val_accuracy, 'b', label='Validation accuracy')\n",
    "    plt.title('Training and validation accuracy')\n",
    "    plt.xlabel(\"Epochs\")\n",
    "    plt.ylabel('accuracy')\n",
    "    plt.legend()\n",
    "    plt.show()\n",
    "\n",
    "def printloss(history):\n",
    "    loss = history.history['loss']\n",
    "    epochs = range(1, len(loss) + 1)\n",
    "    val_loss = history.history['val_loss']\n",
    "    plt.plot(epochs, loss, 'r', label='Training loss')\n",
    "    plt.plot(epochs, val_loss, 'b', label='Validation loss')\n",
    "    plt.title('Training and validation loss')\n",
    "    plt.xlabel(\"Epochs\")\n",
    "    plt.ylabel('loss')\n",
    "    plt.legend()\n",
    "    plt.show()"
   ]
  },
  {
   "cell_type": "code",
   "execution_count": 7,
   "id": "631aacaa",
   "metadata": {},
   "outputs": [
    {
     "data": {
      "image/png": "[encoded data removed]",
      "text/plain": [
       "<Figure size 432x288 with 1 Axes>"
      ]
     },
     "metadata": {
      "needs_background": "light"
     },
     "output_type": "display_data"
    },
    {
     "data": {
      "image/png": "[encoded data removed]",
      "text/plain": [
       "<Figure size 432x288 with 1 Axes>"
      ]
     },
     "metadata": {
      "needs_background": "light"
     },
     "output_type": "display_data"
    }
   ],
   "source": [
    "printacc(history)\n",
    "printloss(history)"
   ]
  },
  {
   "cell_type": "markdown",
   "id": "9116d583",
   "metadata": {},
   "source": [
    "Frame Base Model"
   ]
  },
  {
   "cell_type": "code",
   "execution_count": 3,
   "id": "d8ec1c29",
   "metadata": {
    "scrolled": true
   },
   "outputs": [
    {
     "name": "stdout",
     "output_type": "stream",
     "text": [
      "Epoch 1/20\n",
      "20/20 [==============================] - 37s 1s/step - loss: 4.9018 - acc: 0.0906 - val_loss: 4.3804 - val_acc: 0.1895\n",
      "Epoch 2/20\n",
      "20/20 [==============================] - 25s 1s/step - loss: 4.2106 - acc: 0.2317 - val_loss: 3.7303 - val_acc: 0.3613\n",
      "Epoch 3/20\n",
      "20/20 [==============================] - 25s 1s/step - loss: 3.4247 - acc: 0.4242 - val_loss: 3.0988 - val_acc: 0.4562\n",
      "Epoch 4/20\n",
      "20/20 [==============================] - 25s 1s/step - loss: 2.8544 - acc: 0.5349 - val_loss: 2.5793 - val_acc: 0.5865\n",
      "Epoch 5/20\n",
      "20/20 [==============================] - 25s 1s/step - loss: 2.3580 - acc: 0.6330 - val_loss: 2.1474 - val_acc: 0.6313\n",
      "Epoch 6/20\n",
      "20/20 [==============================] - 23s 1s/step - loss: 1.9922 - acc: 0.7008 - val_loss: 1.7954 - val_acc: 0.7146\n",
      "Epoch 7/20\n",
      "20/20 [==============================] - 24s 1s/step - loss: 1.8649 - acc: 0.6918 - val_loss: 1.5373 - val_acc: 0.7452\n",
      "Epoch 8/20\n",
      "20/20 [==============================] - 24s 1s/step - loss: 1.3947 - acc: 0.7882 - val_loss: 1.2898 - val_acc: 0.7738\n",
      "Epoch 9/20\n",
      "20/20 [==============================] - 24s 1s/step - loss: 0.9710 - acc: 0.8439 - val_loss: 1.1315 - val_acc: 0.8029\n",
      "Epoch 10/20\n",
      "20/20 [==============================] - 24s 1s/step - loss: 0.9540 - acc: 0.8578 - val_loss: 0.9671 - val_acc: 0.8514\n",
      "Epoch 11/20\n",
      "20/20 [==============================] - 23s 1s/step - loss: 0.7534 - acc: 0.8800 - val_loss: 0.8519 - val_acc: 0.8649\n",
      "Epoch 12/20\n",
      "20/20 [==============================] - 24s 1s/step - loss: 0.6740 - acc: 0.9102 - val_loss: 0.7780 - val_acc: 0.8758\n",
      "Epoch 13/20\n",
      "20/20 [==============================] - 24s 1s/step - loss: 0.6035 - acc: 0.9166 - val_loss: 0.6638 - val_acc: 0.8887\n",
      "Epoch 14/20\n",
      "20/20 [==============================] - 24s 1s/step - loss: 0.3988 - acc: 0.9657 - val_loss: 0.5800 - val_acc: 0.9026\n",
      "Epoch 15/20\n",
      "20/20 [==============================] - 23s 1s/step - loss: 0.3195 - acc: 0.9602 - val_loss: 0.5086 - val_acc: 0.9193\n",
      "Epoch 16/20\n",
      "20/20 [==============================] - 23s 1s/step - loss: 0.2872 - acc: 0.9780 - val_loss: 0.4488 - val_acc: 0.9240\n",
      "Epoch 17/20\n",
      "20/20 [==============================] - 23s 1s/step - loss: 0.3029 - acc: 0.9573 - val_loss: 0.4070 - val_acc: 0.9324\n",
      "Epoch 18/20\n",
      "20/20 [==============================] - 23s 1s/step - loss: 0.2081 - acc: 0.9746 - val_loss: 0.3576 - val_acc: 0.9374\n",
      "Epoch 19/20\n",
      "20/20 [==============================] - 22s 1s/step - loss: 0.2320 - acc: 0.9636 - val_loss: 0.3124 - val_acc: 0.9548\n",
      "Epoch 20/20\n",
      "20/20 [==============================] - 22s 1s/step - loss: 0.1718 - acc: 0.9723 - val_loss: 0.2888 - val_acc: 0.9515\n"
     ]
    }
   ],
   "source": [
    "fbmodel = Sequential()\n",
    "fbmodel.add(Conv2D(32, (3, 3), activation='relu', input_shape = (152, 152, 3)))\n",
    "fbmodel.add(MaxPooling2D(pool_size=(2, 2)))\n",
    "fbmodel.add(Conv2D(16, (3, 3), activation='relu'))\n",
    "fbmodel.add(Flatten())\n",
    "fbmodel.add(Dense(1024, activation='relu'))\n",
    "fbmodel.add(Dense(160, activation='softmax'))\n",
    "fbmodel.compile(loss='categorical_crossentropy', \n",
    "                optimizer=optimizers.Adam(learning_rate=2e-5), \n",
    "                metrics=['acc'])\n",
    "fb_history = fbmodel.fit(train_generator, \n",
    "                    steps_per_epoch=20, \n",
    "                    epochs=20, \n",
    "                    validation_data=validation_generator)"
   ]
  },
  {
   "cell_type": "code",
   "execution_count": 4,
   "id": "2b8df12f",
   "metadata": {},
   "outputs": [
    {
     "name": "stdout",
     "output_type": "stream",
     "text": [
      "99/99 [==============================] - 6s 59ms/step - loss: 0.6357 - acc: 0.9078\n"
     ]
    },
    {
     "data": {
      "text/plain": [
       "[0.6356920003890991, 0.9077607989311218]"
      ]
     },
     "execution_count": 4,
     "metadata": {},
     "output_type": "execute_result"
    }
   ],
   "source": [
    "fbmodel.evaluate(test_generator)"
   ]
  },
  {
   "cell_type": "code",
   "execution_count": 5,
   "id": "c7c72a55",
   "metadata": {
    "scrolled": true
   },
   "outputs": [
    {
     "data": {
      "text/plain": [
       "{'loss': [4.746026992797852,\n",
       "  4.019616603851318,\n",
       "  3.3742594718933105,\n",
       "  2.7998762130737305,\n",
       "  2.3263041973114014,\n",
       "  1.945184350013733,\n",
       "  1.695601224899292,\n",
       "  1.2966493368148804,\n",
       "  1.007314682006836,\n",
       "  0.9061160087585449,\n",
       "  0.7118042707443237,\n",
       "  0.6475775241851807,\n",
       "  0.554118275642395,\n",
       "  0.37107595801353455,\n",
       "  0.3428993821144104,\n",
       "  0.28263336420059204,\n",
       "  0.2676079571247101,\n",
       "  0.19904561340808868,\n",
       "  0.2115311175584793,\n",
       "  0.14793851971626282],\n",
       " 'acc': [0.1328125,\n",
       "  0.2671875059604645,\n",
       "  0.41874998807907104,\n",
       "  0.5406249761581421,\n",
       "  0.6312500238418579,\n",
       "  0.707812488079071,\n",
       "  0.731249988079071,\n",
       "  0.8031250238418579,\n",
       "  0.8515625,\n",
       "  0.8656250238418579,\n",
       "  0.893750011920929,\n",
       "  0.895312488079071,\n",
       "  0.9296875,\n",
       "  0.9671875238418579,\n",
       "  0.949999988079071,\n",
       "  0.9703124761581421,\n",
       "  0.9609375,\n",
       "  0.9765625,\n",
       "  0.971875011920929,\n",
       "  0.9781249761581421],\n",
       " 'val_loss': [4.380406379699707,\n",
       "  3.7303264141082764,\n",
       "  3.098825454711914,\n",
       "  2.5792739391326904,\n",
       "  2.1473653316497803,\n",
       "  1.795364499092102,\n",
       "  1.5372871160507202,\n",
       "  1.2898073196411133,\n",
       "  1.1314839124679565,\n",
       "  0.9671279191970825,\n",
       "  0.8519056439399719,\n",
       "  0.7779669165611267,\n",
       "  0.6637798547744751,\n",
       "  0.5799763798713684,\n",
       "  0.5085786581039429,\n",
       "  0.44875627756118774,\n",
       "  0.4070158898830414,\n",
       "  0.357587069272995,\n",
       "  0.31235575675964355,\n",
       "  0.28883078694343567],\n",
       " 'val_acc': [0.18948902189731598,\n",
       "  0.3612729609012604,\n",
       "  0.45618557929992676,\n",
       "  0.5865082740783691,\n",
       "  0.6313312649726868,\n",
       "  0.7145898938179016,\n",
       "  0.7451815605163574,\n",
       "  0.7737561464309692,\n",
       "  0.8028910756111145,\n",
       "  0.8514119386672974,\n",
       "  0.8648588061332703,\n",
       "  0.875840425491333,\n",
       "  0.8887270092964172,\n",
       "  0.9026221632957458,\n",
       "  0.919318675994873,\n",
       "  0.9240251183509827,\n",
       "  0.9324294328689575,\n",
       "  0.9373599290847778,\n",
       "  0.954840898513794,\n",
       "  0.9514791369438171]}"
      ]
     },
     "execution_count": 5,
     "metadata": {},
     "output_type": "execute_result"
    }
   ],
   "source": [
    "fb_history.history"
   ]
  },
  {
   "cell_type": "code",
   "execution_count": 6,
   "id": "1616fe2a",
   "metadata": {},
   "outputs": [
    {
     "data": {
      "image/png": "[encoded data removed]",
      "text/plain": [
       "<Figure size 432x288 with 1 Axes>"
      ]
     },
     "metadata": {
      "needs_background": "light"
     },
     "output_type": "display_data"
    },
    {
     "data": {
      "image/png": "[encoded data removed]",
      "text/plain": [
       "<Figure size 432x288 with 1 Axes>"
      ]
     },
     "metadata": {
      "needs_background": "light"
     },
     "output_type": "display_data"
    }
   ],
   "source": [
    "printacc(fb_history)\n",
    "printloss(fb_history)"
   ]
  },
  {
   "cell_type": "markdown",
   "id": "f20cec46",
   "metadata": {},
   "source": [
    "Aligned Base Model"
   ]
  },
  {
   "cell_type": "code",
   "execution_count": 7,
   "id": "2d5cc8ed",
   "metadata": {},
   "outputs": [
    {
     "name": "stdout",
     "output_type": "stream",
     "text": [
      "Found 35092 images belonging to 160 classes.\n",
      "Found 8925 images belonging to 160 classes.\n",
      "Found 3144 images belonging to 160 classes.\n",
      "Wall time: 1.54 s\n"
     ]
    }
   ],
   "source": [
    "%%time\n",
    "from keras.preprocessing.image import ImageDataGenerator\n",
    "\n",
    "train_datagen = ImageDataGenerator(rescale=1./255)\n",
    "validation_datagen = ImageDataGenerator(rescale=1./255)\n",
    "test_datagen = ImageDataGenerator(rescale=1./255)\n",
    "\n",
    "train_dir = 'D:\\\\aligned_baseline_dataset\\\\train'\n",
    "validation_dir = 'D:\\\\aligned_baseline_dataset\\\\validation'\n",
    "test_dir = 'D:\\\\aligned_baseline_dataset\\\\test'\n",
    "\n",
    "train_generator = train_datagen.flow_from_directory(\n",
    "        directory = train_dir,\n",
    "        target_size=(152, 152),\n",
    "        batch_size=32,\n",
    "        class_mode='categorical',\n",
    "        shuffle=True)\n",
    "\n",
    "validation_generator = validation_datagen.flow_from_directory(\n",
    "        directory = validation_dir,\n",
    "        target_size=(152, 152),\n",
    "        batch_size=32,\n",
    "        class_mode='categorical',\n",
    "        shuffle=True)\n",
    "\n",
    "test_generator = test_datagen.flow_from_directory(\n",
    "        directory = test_dir,\n",
    "        target_size=(152, 152),\n",
    "        batch_size=32,\n",
    "        class_mode='categorical',\n",
    "        shuffle=True)"
   ]
  },
  {
   "cell_type": "code",
   "execution_count": 8,
   "id": "ac11449d",
   "metadata": {},
   "outputs": [],
   "source": [
    "from keras.models import Sequential\n",
    "from keras.layers import Conv2D, MaxPooling2D, LocallyConnected2D\n",
    "from keras.layers import Activation, Dropout, Flatten, Dense\n",
    "from keras import applications, regularizers, optimizers\n",
    "#from keras.callbacks import EarlyStopping, ModelCheckpoint\n",
    "#from keras.utils import to_categorical"
   ]
  },
  {
   "cell_type": "code",
   "execution_count": 9,
   "id": "8dafc444",
   "metadata": {
    "scrolled": true
   },
   "outputs": [
    {
     "name": "stdout",
     "output_type": "stream",
     "text": [
      "Epoch 1/20\n",
      "20/20 [==============================] - 16s 812ms/step - loss: 4.8841 - acc: 0.0534 - val_loss: 4.4519 - val_acc: 0.1451\n",
      "Epoch 2/20\n",
      "20/20 [==============================] - 15s 783ms/step - loss: 4.3623 - acc: 0.1704 - val_loss: 3.9952 - val_acc: 0.2361\n",
      "Epoch 3/20\n",
      "20/20 [==============================] - 15s 774ms/step - loss: 3.7935 - acc: 0.2835 - val_loss: 3.5884 - val_acc: 0.3293\n",
      "Epoch 4/20\n",
      "20/20 [==============================] - 15s 765ms/step - loss: 3.3310 - acc: 0.3840 - val_loss: 3.1958 - val_acc: 0.4227\n",
      "Epoch 5/20\n",
      "20/20 [==============================] - 15s 765ms/step - loss: 2.8618 - acc: 0.4898 - val_loss: 2.9264 - val_acc: 0.4517\n",
      "Epoch 6/20\n",
      "20/20 [==============================] - 15s 765ms/step - loss: 2.7610 - acc: 0.4809 - val_loss: 2.6005 - val_acc: 0.5180\n",
      "Epoch 7/20\n",
      "20/20 [==============================] - 15s 778ms/step - loss: 2.3893 - acc: 0.5694 - val_loss: 2.4105 - val_acc: 0.5442\n",
      "Epoch 8/20\n",
      "20/20 [==============================] - 15s 767ms/step - loss: 2.1059 - acc: 0.6183 - val_loss: 2.1947 - val_acc: 0.5868\n",
      "Epoch 9/20\n",
      "20/20 [==============================] - 15s 769ms/step - loss: 2.0200 - acc: 0.6250 - val_loss: 2.0146 - val_acc: 0.6190\n",
      "Epoch 10/20\n",
      "20/20 [==============================] - 14s 741ms/step - loss: 1.6057 - acc: 0.7087 - val_loss: 1.8711 - val_acc: 0.6371\n",
      "Epoch 11/20\n",
      "20/20 [==============================] - 14s 705ms/step - loss: 1.7216 - acc: 0.6702 - val_loss: 1.7083 - val_acc: 0.6683\n",
      "Epoch 12/20\n",
      "20/20 [==============================] - 13s 695ms/step - loss: 1.2717 - acc: 0.7731 - val_loss: 1.5970 - val_acc: 0.6893\n",
      "Epoch 13/20\n",
      "20/20 [==============================] - 14s 714ms/step - loss: 1.2373 - acc: 0.7760 - val_loss: 1.5078 - val_acc: 0.7241\n",
      "Epoch 14/20\n",
      "20/20 [==============================] - 14s 739ms/step - loss: 1.2006 - acc: 0.8027 - val_loss: 1.3968 - val_acc: 0.7141\n",
      "Epoch 15/20\n",
      "20/20 [==============================] - 15s 776ms/step - loss: 1.0006 - acc: 0.8162 - val_loss: 1.2912 - val_acc: 0.7518\n",
      "Epoch 16/20\n",
      "20/20 [==============================] - 15s 766ms/step - loss: 1.1723 - acc: 0.7806 - val_loss: 1.2145 - val_acc: 0.7664\n",
      "Epoch 17/20\n",
      "20/20 [==============================] - 15s 766ms/step - loss: 0.9999 - acc: 0.8081 - val_loss: 1.1241 - val_acc: 0.7666\n",
      "Epoch 18/20\n",
      "20/20 [==============================] - 15s 771ms/step - loss: 0.8000 - acc: 0.8525 - val_loss: 1.0897 - val_acc: 0.7740\n",
      "Epoch 19/20\n",
      "20/20 [==============================] - 15s 770ms/step - loss: 0.7598 - acc: 0.8531 - val_loss: 1.0635 - val_acc: 0.7712\n",
      "Epoch 20/20\n",
      "20/20 [==============================] - 14s 719ms/step - loss: 0.7513 - acc: 0.8651 - val_loss: 0.9703 - val_acc: 0.8065\n"
     ]
    }
   ],
   "source": [
    "abmodel = Sequential()\n",
    "abmodel.add(Conv2D(32, (3, 3), activation='relu', input_shape = (152, 152, 3)))\n",
    "abmodel.add(MaxPooling2D(pool_size=(2, 2)))\n",
    "abmodel.add(Conv2D(16, (3, 3), activation='relu'))\n",
    "abmodel.add(Flatten())\n",
    "abmodel.add(Dense(1024, activation='relu'))\n",
    "abmodel.add(Dense(160, activation='softmax'))\n",
    "abmodel.compile(loss='categorical_crossentropy', \n",
    "                optimizer=optimizers.Adam(learning_rate=2e-5), \n",
    "                metrics=['acc'])\n",
    "ab_history = abmodel.fit(train_generator, \n",
    "                    steps_per_epoch=20, \n",
    "                    epochs=20, \n",
    "                    validation_data=validation_generator)"
   ]
  },
  {
   "cell_type": "code",
   "execution_count": 10,
   "id": "6770b684",
   "metadata": {},
   "outputs": [
    {
     "name": "stdout",
     "output_type": "stream",
     "text": [
      "99/99 [==============================] - 4s 44ms/step - loss: 1.8023 - acc: 0.6492\n"
     ]
    },
    {
     "data": {
      "text/plain": [
       "[1.8022775650024414, 0.6491730213165283]"
      ]
     },
     "execution_count": 10,
     "metadata": {},
     "output_type": "execute_result"
    }
   ],
   "source": [
    "abmodel.evaluate(test_generator)"
   ]
  },
  {
   "cell_type": "code",
   "execution_count": 11,
   "id": "67fc6442",
   "metadata": {
    "scrolled": true
   },
   "outputs": [
    {
     "data": {
      "text/plain": [
       "{'loss': [4.743236064910889,\n",
       "  4.2485456466674805,\n",
       "  3.6415698528289795,\n",
       "  3.2781035900115967,\n",
       "  2.9390406608581543,\n",
       "  2.754173755645752,\n",
       "  2.3170101642608643,\n",
       "  2.1003992557525635,\n",
       "  1.9525063037872314,\n",
       "  1.667236566543579,\n",
       "  1.6381309032440186,\n",
       "  1.3623675107955933,\n",
       "  1.2731938362121582,\n",
       "  1.1390103101730347,\n",
       "  1.098801851272583,\n",
       "  1.1142034530639648,\n",
       "  0.8860601186752319,\n",
       "  0.8396075367927551,\n",
       "  0.7534114122390747,\n",
       "  0.7664423584938049],\n",
       " 'acc': [0.07656250149011612,\n",
       "  0.19374999403953552,\n",
       "  0.3218750059604645,\n",
       "  0.38593751192092896,\n",
       "  0.46562498807907104,\n",
       "  0.4906249940395355,\n",
       "  0.589062511920929,\n",
       "  0.6265624761581421,\n",
       "  0.640625,\n",
       "  0.6796875,\n",
       "  0.6890624761581421,\n",
       "  0.7640625238418579,\n",
       "  0.768750011920929,\n",
       "  0.8140624761581421,\n",
       "  0.7953125238418579,\n",
       "  0.8031250238418579,\n",
       "  0.840624988079071,\n",
       "  0.8500000238418579,\n",
       "  0.862500011920929,\n",
       "  0.8609374761581421],\n",
       " 'val_loss': [4.451865196228027,\n",
       "  3.9952244758605957,\n",
       "  3.588425397872925,\n",
       "  3.195784091949463,\n",
       "  2.9264373779296875,\n",
       "  2.6005351543426514,\n",
       "  2.410529136657715,\n",
       "  2.194746971130371,\n",
       "  2.0145530700683594,\n",
       "  1.8710968494415283,\n",
       "  1.7083337306976318,\n",
       "  1.5970054864883423,\n",
       "  1.5077613592147827,\n",
       "  1.3968017101287842,\n",
       "  1.291246771812439,\n",
       "  1.2145026922225952,\n",
       "  1.1240909099578857,\n",
       "  1.0896538496017456,\n",
       "  1.0634852647781372,\n",
       "  0.9703303575515747],\n",
       " 'val_acc': [0.14509804546833038,\n",
       "  0.2360784262418747,\n",
       "  0.3292997181415558,\n",
       "  0.42274510860443115,\n",
       "  0.4516526758670807,\n",
       "  0.5179831981658936,\n",
       "  0.544201672077179,\n",
       "  0.5867787003517151,\n",
       "  0.6190476417541504,\n",
       "  0.637086808681488,\n",
       "  0.6683473587036133,\n",
       "  0.6892997026443481,\n",
       "  0.7241456508636475,\n",
       "  0.7140616178512573,\n",
       "  0.7518207430839539,\n",
       "  0.7663865685462952,\n",
       "  0.7666106224060059,\n",
       "  0.7740055918693542,\n",
       "  0.7712044715881348,\n",
       "  0.8064985871315002]}"
      ]
     },
     "execution_count": 11,
     "metadata": {},
     "output_type": "execute_result"
    }
   ],
   "source": [
    "ab_history.history"
   ]
  },
  {
   "cell_type": "code",
   "execution_count": 12,
   "id": "2b62f569",
   "metadata": {},
   "outputs": [
    {
     "data": {
      "image/png": "[encoded data removed]",
      "text/plain": [
       "<Figure size 432x288 with 1 Axes>"
      ]
     },
     "metadata": {
      "needs_background": "light"
     },
     "output_type": "display_data"
    },
    {
     "data": {
      "image/png": "[encoded data removed]",
      "text/plain": [
       "<Figure size 432x288 with 1 Axes>"
      ]
     },
     "metadata": {
      "needs_background": "light"
     },
     "output_type": "display_data"
    }
   ],
   "source": [
    "printacc(ab_history)\n",
    "printloss(ab_history)"
   ]
  },
  {
   "cell_type": "markdown",
   "id": "0e83e1cf",
   "metadata": {},
   "source": [
    "VGG16 Base Model"
   ]
  },
  {
   "cell_type": "code",
   "execution_count": 28,
   "id": "826e7275",
   "metadata": {
    "scrolled": true
   },
   "outputs": [
    {
     "name": "stdout",
     "output_type": "stream",
     "text": [
      "Epoch 1/30\n",
      "20/20 [==============================] - 36s 2s/step - loss: 5.0768 - acc: 0.0358 - val_loss: 4.3586 - val_acc: 0.1325\n",
      "Epoch 2/30\n",
      "20/20 [==============================] - 31s 2s/step - loss: 4.0787 - acc: 0.1820 - val_loss: 3.7500 - val_acc: 0.3128\n",
      "Epoch 3/30\n",
      "20/20 [==============================] - 30s 2s/step - loss: 3.5322 - acc: 0.3925 - val_loss: 3.2827 - val_acc: 0.4275\n",
      "Epoch 4/30\n",
      "20/20 [==============================] - 29s 2s/step - loss: 3.2645 - acc: 0.4206 - val_loss: 2.9104 - val_acc: 0.4815\n",
      "Epoch 5/30\n",
      "20/20 [==============================] - 29s 1s/step - loss: 2.6254 - acc: 0.5786 - val_loss: 2.5837 - val_acc: 0.5975\n",
      "Epoch 6/30\n",
      "20/20 [==============================] - 28s 1s/step - loss: 2.3307 - acc: 0.6443 - val_loss: 2.3266 - val_acc: 0.6372\n",
      "Epoch 7/30\n",
      "20/20 [==============================] - 29s 1s/step - loss: 2.1615 - acc: 0.6711 - val_loss: 2.0893 - val_acc: 0.6931\n",
      "Epoch 8/30\n",
      "20/20 [==============================] - 29s 1s/step - loss: 1.8592 - acc: 0.7333 - val_loss: 1.9022 - val_acc: 0.7111\n",
      "Epoch 9/30\n",
      "20/20 [==============================] - 29s 1s/step - loss: 1.7892 - acc: 0.7385 - val_loss: 1.7295 - val_acc: 0.7417\n",
      "Epoch 10/30\n",
      "20/20 [==============================] - 28s 1s/step - loss: 1.5782 - acc: 0.7844 - val_loss: 1.5708 - val_acc: 0.8046\n",
      "Epoch 11/30\n",
      "20/20 [==============================] - 27s 1s/step - loss: 1.3538 - acc: 0.8490 - val_loss: 1.4284 - val_acc: 0.8314\n",
      "Epoch 12/30\n",
      "20/20 [==============================] - 27s 1s/step - loss: 1.1968 - acc: 0.8739 - val_loss: 1.3123 - val_acc: 0.8309\n",
      "Epoch 13/30\n",
      "20/20 [==============================] - 28s 1s/step - loss: 1.0187 - acc: 0.8850 - val_loss: 1.2096 - val_acc: 0.8556\n",
      "Epoch 14/30\n",
      "20/20 [==============================] - 28s 1s/step - loss: 0.9285 - acc: 0.9211 - val_loss: 1.1089 - val_acc: 0.8692\n",
      "Epoch 15/30\n",
      "20/20 [==============================] - 28s 1s/step - loss: 0.8278 - acc: 0.9160 - val_loss: 1.0289 - val_acc: 0.8850\n",
      "Epoch 16/30\n",
      "20/20 [==============================] - 27s 1s/step - loss: 0.7718 - acc: 0.9504 - val_loss: 0.9600 - val_acc: 0.9070\n",
      "Epoch 17/30\n",
      "20/20 [==============================] - 28s 1s/step - loss: 0.7059 - acc: 0.9359 - val_loss: 0.8899 - val_acc: 0.8998\n",
      "Epoch 18/30\n",
      "20/20 [==============================] - 28s 1s/step - loss: 0.5395 - acc: 0.9653 - val_loss: 0.8262 - val_acc: 0.9200\n",
      "Epoch 19/30\n",
      "20/20 [==============================] - 28s 1s/step - loss: 0.5194 - acc: 0.9694 - val_loss: 0.7694 - val_acc: 0.9265\n",
      "Epoch 20/30\n",
      "20/20 [==============================] - 28s 1s/step - loss: 0.5627 - acc: 0.9498 - val_loss: 0.7212 - val_acc: 0.9347\n",
      "Epoch 21/30\n",
      "20/20 [==============================] - 27s 1s/step - loss: 0.5394 - acc: 0.9564 - val_loss: 0.6746 - val_acc: 0.9420\n",
      "Epoch 22/30\n",
      "20/20 [==============================] - 27s 1s/step - loss: 0.4078 - acc: 0.9753 - val_loss: 0.6347 - val_acc: 0.9333\n",
      "Epoch 23/30\n",
      "20/20 [==============================] - 27s 1s/step - loss: 0.3540 - acc: 0.9787 - val_loss: 0.6004 - val_acc: 0.9413\n",
      "Epoch 24/30\n",
      "20/20 [==============================] - 27s 1s/step - loss: 0.4137 - acc: 0.9652 - val_loss: 0.5696 - val_acc: 0.9496\n",
      "Epoch 25/30\n",
      "20/20 [==============================] - 27s 1s/step - loss: 0.3205 - acc: 0.9723 - val_loss: 0.5309 - val_acc: 0.9560\n",
      "Epoch 26/30\n",
      "20/20 [==============================] - 26s 1s/step - loss: 0.3525 - acc: 0.9817 - val_loss: 0.5003 - val_acc: 0.9578\n",
      "Epoch 27/30\n",
      "20/20 [==============================] - 26s 1s/step - loss: 0.3308 - acc: 0.9866 - val_loss: 0.4757 - val_acc: 0.9601\n",
      "Epoch 28/30\n",
      "20/20 [==============================] - 26s 1s/step - loss: 0.3448 - acc: 0.9726 - val_loss: 0.4490 - val_acc: 0.9638\n",
      "Epoch 29/30\n",
      "20/20 [==============================] - 27s 1s/step - loss: 0.2680 - acc: 0.9836 - val_loss: 0.4266 - val_acc: 0.9676\n",
      "Epoch 30/30\n",
      "20/20 [==============================] - 26s 1s/step - loss: 0.2744 - acc: 0.9876 - val_loss: 0.4081 - val_acc: 0.9703\n"
     ]
    }
   ],
   "source": [
    "from keras.applications.vgg16 import VGG16\n",
    "\n",
    "conv_base = VGG16(weights='imagenet', \n",
    "                  include_top=False, \n",
    "                  input_shape=(152, 152, 3))\n",
    "conv_base.trainable = False\n",
    "#conv_base.summary()\n",
    "set_trainable = False\n",
    "\n",
    "for layer in conv_base.layers:\n",
    "    if layer.name == 'block3_conv1':\n",
    "        set_trainable = True\n",
    "    if set_trainable:\n",
    "        layer.trainable = True\n",
    "    else:\n",
    "        layer.trainable = False\n",
    "\n",
    "vabmodel = Sequential()\n",
    "vabmodel.add(conv_base)\n",
    "vabmodel.add(Flatten())\n",
    "vabmodel.add(Dense(4096, activation = 'relu'))\n",
    "vabmodel.add(Dense(160, activation = 'softmax'))\n",
    "vabmodel.compile(loss='categorical_crossentropy', \n",
    "                optimizer=optimizers.Adam(learning_rate=2e-5), \n",
    "                metrics=['acc'])\n",
    "vab_history = vabmodel.fit(train_generator, \n",
    "                    steps_per_epoch=20, \n",
    "                    epochs=30, \n",
    "                    validation_data=validation_generator)"
   ]
  },
  {
   "cell_type": "code",
   "execution_count": 29,
   "id": "d12ff9ab",
   "metadata": {},
   "outputs": [
    {
     "name": "stdout",
     "output_type": "stream",
     "text": [
      "99/99 [==============================] - 9s 91ms/step - loss: 0.9026 - acc: 0.8960\n"
     ]
    },
    {
     "data": {
      "text/plain": [
       "[0.9025611877441406, 0.8959923386573792]"
      ]
     },
     "execution_count": 29,
     "metadata": {},
     "output_type": "execute_result"
    }
   ],
   "source": [
    "vabmodel.evaluate(test_generator)"
   ]
  },
  {
   "cell_type": "code",
   "execution_count": 30,
   "id": "1e439433",
   "metadata": {},
   "outputs": [
    {
     "data": {
      "text/plain": [
       "{'loss': [4.866844177246094,\n",
       "  3.9409196376800537,\n",
       "  3.41802716255188,\n",
       "  3.0326192378997803,\n",
       "  2.593425750732422,\n",
       "  2.3105804920196533,\n",
       "  2.156674861907959,\n",
       "  1.8587582111358643,\n",
       "  1.6593376398086548,\n",
       "  1.5405809879302979,\n",
       "  1.3600733280181885,\n",
       "  1.1894994974136353,\n",
       "  0.9729093313217163,\n",
       "  0.9409619569778442,\n",
       "  0.8204247355461121,\n",
       "  0.7615445256233215,\n",
       "  0.7163923978805542,\n",
       "  0.5769508481025696,\n",
       "  0.5366227030754089,\n",
       "  0.5660051107406616,\n",
       "  0.4843103289604187,\n",
       "  0.3854382634162903,\n",
       "  0.35309451818466187,\n",
       "  0.39178940653800964,\n",
       "  0.33283519744873047,\n",
       "  0.3290623724460602,\n",
       "  0.31533581018447876,\n",
       "  0.3098258376121521,\n",
       "  0.2536119818687439,\n",
       "  0.240268737077713],\n",
       " 'acc': [0.05937499925494194,\n",
       "  0.2229299396276474,\n",
       "  0.4281249940395355,\n",
       "  0.4593749940395355,\n",
       "  0.574999988079071,\n",
       "  0.653124988079071,\n",
       "  0.676562488079071,\n",
       "  0.731249988079071,\n",
       "  0.760937511920929,\n",
       "  0.7984374761581421,\n",
       "  0.8500000238418579,\n",
       "  0.8734375238418579,\n",
       "  0.895312488079071,\n",
       "  0.910937488079071,\n",
       "  0.917187511920929,\n",
       "  0.9437500238418579,\n",
       "  0.9296875,\n",
       "  0.9609375,\n",
       "  0.964062511920929,\n",
       "  0.9546874761581421,\n",
       "  0.9593750238418579,\n",
       "  0.973437488079071,\n",
       "  0.9750000238418579,\n",
       "  0.973437488079071,\n",
       "  0.973437488079071,\n",
       "  0.981249988079071,\n",
       "  0.9828125238418579,\n",
       "  0.9781249761581421,\n",
       "  0.984375,\n",
       "  0.9921875],\n",
       " 'val_loss': [4.358577728271484,\n",
       "  3.750007390975952,\n",
       "  3.282700777053833,\n",
       "  2.9104197025299072,\n",
       "  2.583688974380493,\n",
       "  2.326646089553833,\n",
       "  2.089304208755493,\n",
       "  1.9022321701049805,\n",
       "  1.7294538021087646,\n",
       "  1.5707541704177856,\n",
       "  1.4283677339553833,\n",
       "  1.3122581243515015,\n",
       "  1.2096184492111206,\n",
       "  1.108942985534668,\n",
       "  1.0289250612258911,\n",
       "  0.9599882960319519,\n",
       "  0.8898826837539673,\n",
       "  0.8262218236923218,\n",
       "  0.7693862915039062,\n",
       "  0.7211894989013672,\n",
       "  0.6745877861976624,\n",
       "  0.6346575617790222,\n",
       "  0.600427508354187,\n",
       "  0.5696202516555786,\n",
       "  0.5308942198753357,\n",
       "  0.5002573132514954,\n",
       "  0.4756980240345001,\n",
       "  0.4490261971950531,\n",
       "  0.42655783891677856,\n",
       "  0.4080767333507538],\n",
       " 'val_acc': [0.13254901766777039,\n",
       "  0.3128291368484497,\n",
       "  0.4274509847164154,\n",
       "  0.48145657777786255,\n",
       "  0.5975350141525269,\n",
       "  0.6371988654136658,\n",
       "  0.6931092143058777,\n",
       "  0.7111484408378601,\n",
       "  0.7417367100715637,\n",
       "  0.8045938611030579,\n",
       "  0.8313725590705872,\n",
       "  0.830924391746521,\n",
       "  0.8555742502212524,\n",
       "  0.8692436814308167,\n",
       "  0.8850420117378235,\n",
       "  0.9070028066635132,\n",
       "  0.8998319506645203,\n",
       "  0.9200000166893005,\n",
       "  0.9264985918998718,\n",
       "  0.9346778988838196,\n",
       "  0.9419608116149902,\n",
       "  0.9333333373069763,\n",
       "  0.9412885308265686,\n",
       "  0.9495798349380493,\n",
       "  0.9559664130210876,\n",
       "  0.9577590823173523,\n",
       "  0.9601120352745056,\n",
       "  0.9638095498085022,\n",
       "  0.9676190614700317,\n",
       "  0.9703081250190735]}"
      ]
     },
     "execution_count": 30,
     "metadata": {},
     "output_type": "execute_result"
    }
   ],
   "source": [
    "vab_history.history"
   ]
  },
  {
   "cell_type": "code",
   "execution_count": 31,
   "id": "78119a6e",
   "metadata": {},
   "outputs": [
    {
     "data": {
      "image/png": "[encoded data removed]",
      "text/plain": [
       "<Figure size 432x288 with 1 Axes>"
      ]
     },
     "metadata": {
      "needs_background": "light"
     },
     "output_type": "display_data"
    },
    {
     "data": {
      "image/png": "[encoded data removed]",
      "text/plain": [
       "<Figure size 432x288 with 1 Axes>"
      ]
     },
     "metadata": {
      "needs_background": "light"
     },
     "output_type": "display_data"
    }
   ],
   "source": [
    "printacc(vab_history)\n",
    "printloss(vab_history)"
   ]
  },
  {
   "cell_type": "markdown",
   "id": "aa4df638",
   "metadata": {},
   "source": [
    "InceptionResNetV2 Base Model"
   ]
  },
  {
   "cell_type": "code",
   "execution_count": 32,
   "id": "28d85582",
   "metadata": {
    "scrolled": true
   },
   "outputs": [
    {
     "name": "stdout",
     "output_type": "stream",
     "text": [
      "Epoch 1/30\n",
      "20/20 [==============================] - 80s 2s/step - loss: 5.0987 - acc: 0.1687 - val_loss: 3.1197 - val_acc: 0.4608\n",
      "Epoch 2/30\n",
      "20/20 [==============================] - 30s 2s/step - loss: 2.3778 - acc: 0.5456 - val_loss: 2.0932 - val_acc: 0.6012\n",
      "Epoch 3/30\n",
      "20/20 [==============================] - 29s 2s/step - loss: 1.6460 - acc: 0.6923 - val_loss: 1.4827 - val_acc: 0.7191\n",
      "Epoch 4/30\n",
      "20/20 [==============================] - 29s 2s/step - loss: 1.0746 - acc: 0.7977 - val_loss: 1.1404 - val_acc: 0.7826\n",
      "Epoch 5/30\n",
      "20/20 [==============================] - 30s 2s/step - loss: 0.7926 - acc: 0.8571 - val_loss: 0.9186 - val_acc: 0.8235\n",
      "Epoch 6/30\n",
      "20/20 [==============================] - 30s 2s/step - loss: 0.6571 - acc: 0.8865 - val_loss: 0.7354 - val_acc: 0.8537\n",
      "Epoch 7/30\n",
      "20/20 [==============================] - 29s 2s/step - loss: 0.4133 - acc: 0.9185 - val_loss: 0.6406 - val_acc: 0.8790\n",
      "Epoch 8/30\n",
      "20/20 [==============================] - 29s 1s/step - loss: 0.3313 - acc: 0.9413 - val_loss: 0.5535 - val_acc: 0.8858\n",
      "Epoch 9/30\n",
      "20/20 [==============================] - 29s 2s/step - loss: 0.3024 - acc: 0.9514 - val_loss: 0.4389 - val_acc: 0.9185\n",
      "Epoch 10/30\n",
      "20/20 [==============================] - 29s 1s/step - loss: 0.2313 - acc: 0.9696 - val_loss: 0.4136 - val_acc: 0.9217\n",
      "Epoch 11/30\n",
      "20/20 [==============================] - 30s 2s/step - loss: 0.1801 - acc: 0.9721 - val_loss: 0.3832 - val_acc: 0.9259\n",
      "Epoch 12/30\n",
      "20/20 [==============================] - 29s 2s/step - loss: 0.1549 - acc: 0.9775 - val_loss: 0.3472 - val_acc: 0.9345\n",
      "Epoch 13/30\n",
      "20/20 [==============================] - 29s 2s/step - loss: 0.1440 - acc: 0.9809 - val_loss: 0.3103 - val_acc: 0.9462\n",
      "Epoch 14/30\n",
      "20/20 [==============================] - 29s 1s/step - loss: 0.0883 - acc: 0.9925 - val_loss: 0.2796 - val_acc: 0.9488\n",
      "Epoch 15/30\n",
      "20/20 [==============================] - 29s 1s/step - loss: 0.0928 - acc: 0.9914 - val_loss: 0.2817 - val_acc: 0.9462\n",
      "Epoch 16/30\n",
      "20/20 [==============================] - 29s 2s/step - loss: 0.0878 - acc: 0.9947 - val_loss: 0.2583 - val_acc: 0.9535\n",
      "Epoch 17/30\n",
      "20/20 [==============================] - 29s 2s/step - loss: 0.0525 - acc: 0.9947 - val_loss: 0.2316 - val_acc: 0.9594\n",
      "Epoch 18/30\n",
      "20/20 [==============================] - 29s 1s/step - loss: 0.0589 - acc: 0.9923 - val_loss: 0.2349 - val_acc: 0.9538\n",
      "Epoch 19/30\n",
      "20/20 [==============================] - 28s 1s/step - loss: 0.0440 - acc: 0.9950 - val_loss: 0.2284 - val_acc: 0.9587\n",
      "Epoch 20/30\n",
      "20/20 [==============================] - 28s 1s/step - loss: 0.0425 - acc: 0.9963 - val_loss: 0.1955 - val_acc: 0.9658\n",
      "Epoch 21/30\n",
      "20/20 [==============================] - 28s 1s/step - loss: 0.0746 - acc: 0.9935 - val_loss: 0.2050 - val_acc: 0.9647\n",
      "Epoch 22/30\n",
      "20/20 [==============================] - 28s 1s/step - loss: 0.0405 - acc: 0.9950 - val_loss: 0.1845 - val_acc: 0.9691\n",
      "Epoch 23/30\n",
      "20/20 [==============================] - 28s 1s/step - loss: 0.0309 - acc: 1.0000 - val_loss: 0.1902 - val_acc: 0.9656\n",
      "Epoch 24/30\n",
      "20/20 [==============================] - 28s 1s/step - loss: 0.0319 - acc: 0.9981 - val_loss: 0.1898 - val_acc: 0.9674\n",
      "Epoch 25/30\n",
      "20/20 [==============================] - 28s 1s/step - loss: 0.0387 - acc: 0.9951 - val_loss: 0.1921 - val_acc: 0.9650\n",
      "Epoch 26/30\n",
      "20/20 [==============================] - 28s 1s/step - loss: 0.0521 - acc: 0.9966 - val_loss: 0.1705 - val_acc: 0.9684\n",
      "Epoch 27/30\n",
      "20/20 [==============================] - 28s 1s/step - loss: 0.0233 - acc: 0.9968 - val_loss: 0.1664 - val_acc: 0.9710\n",
      "Epoch 28/30\n",
      "20/20 [==============================] - 28s 1s/step - loss: 0.0354 - acc: 0.9966 - val_loss: 0.1616 - val_acc: 0.9702\n",
      "Epoch 29/30\n",
      "20/20 [==============================] - 29s 1s/step - loss: 0.0133 - acc: 1.0000 - val_loss: 0.1477 - val_acc: 0.9750\n",
      "Epoch 30/30\n",
      "20/20 [==============================] - 28s 1s/step - loss: 0.0212 - acc: 0.9975 - val_loss: 0.1632 - val_acc: 0.9723\n"
     ]
    }
   ],
   "source": [
    "from keras.applications.inception_resnet_v2 import InceptionResNetV2\n",
    "\n",
    "conv_base = InceptionResNetV2(weights='imagenet', \n",
    "                  include_top=False, \n",
    "                  input_shape=(152, 152, 3))\n",
    "conv_base.trainable = False\n",
    "#conv_base.summary()\n",
    "set_trainable = False\n",
    "\n",
    "for layer in conv_base.layers:\n",
    "    if layer.name == 'block3_conv1':\n",
    "        set_trainable = True\n",
    "    if set_trainable:\n",
    "        layer.trainable = True\n",
    "    else:\n",
    "        layer.trainable = False\n",
    "\n",
    "iabmodel = Sequential()\n",
    "iabmodel.add(conv_base)\n",
    "iabmodel.add(Flatten())\n",
    "iabmodel.add(Dense(4096, activation = 'relu'))\n",
    "iabmodel.add(Dense(160, activation = 'softmax'))\n",
    "iabmodel.compile(loss='categorical_crossentropy', \n",
    "                optimizer=optimizers.Adam(learning_rate=2e-5), \n",
    "                metrics=['acc'])\n",
    "iab_history = iabmodel.fit(train_generator, \n",
    "                    steps_per_epoch=20, \n",
    "                    epochs=30, \n",
    "                    validation_data=validation_generator)"
   ]
  },
  {
   "cell_type": "code",
   "execution_count": 33,
   "id": "5295de5d",
   "metadata": {},
   "outputs": [
    {
     "name": "stdout",
     "output_type": "stream",
     "text": [
      "99/99 [==============================] - 10s 99ms/step - loss: 0.2992 - acc: 0.9396\n"
     ]
    },
    {
     "data": {
      "text/plain": [
       "[0.2991562783718109, 0.9395674467086792]"
      ]
     },
     "execution_count": 33,
     "metadata": {},
     "output_type": "execute_result"
    }
   ],
   "source": [
    "iabmodel.evaluate(test_generator)"
   ]
  },
  {
   "cell_type": "code",
   "execution_count": 34,
   "id": "0121fd0f",
   "metadata": {},
   "outputs": [
    {
     "data": {
      "text/plain": [
       "{'loss': [4.256155967712402,\n",
       "  2.183821439743042,\n",
       "  1.5739428997039795,\n",
       "  1.0360331535339355,\n",
       "  0.8196795582771301,\n",
       "  0.5770542025566101,\n",
       "  0.4374513626098633,\n",
       "  0.37280207872390747,\n",
       "  0.30224114656448364,\n",
       "  0.20910696685314178,\n",
       "  0.2053299844264984,\n",
       "  0.1286807656288147,\n",
       "  0.14563950896263123,\n",
       "  0.1029796227812767,\n",
       "  0.10074583441019058,\n",
       "  0.07045720517635345,\n",
       "  0.0605606846511364,\n",
       "  0.062437377870082855,\n",
       "  0.05023146793246269,\n",
       "  0.05100027471780777,\n",
       "  0.06294067203998566,\n",
       "  0.040016964077949524,\n",
       "  0.0316859632730484,\n",
       "  0.03198130056262016,\n",
       "  0.041701920330524445,\n",
       "  0.04988238960504532,\n",
       "  0.022990092635154724,\n",
       "  0.02772693894803524,\n",
       "  0.01623176969587803,\n",
       "  0.02356776036322117],\n",
       " 'acc': [0.29374998807907104,\n",
       "  0.578125,\n",
       "  0.715624988079071,\n",
       "  0.809374988079071,\n",
       "  0.8453124761581421,\n",
       "  0.903124988079071,\n",
       "  0.917187511920929,\n",
       "  0.9375,\n",
       "  0.9515625238418579,\n",
       "  0.971875011920929,\n",
       "  0.9671875238418579,\n",
       "  0.9828125238418579,\n",
       "  0.9781249761581421,\n",
       "  0.989062488079071,\n",
       "  0.987500011920929,\n",
       "  0.9937499761581421,\n",
       "  0.995312511920929,\n",
       "  0.9921875,\n",
       "  0.9937499761581421,\n",
       "  0.9937499761581421,\n",
       "  0.995312511920929,\n",
       "  0.9937499761581421,\n",
       "  1.0,\n",
       "  0.996874988079071,\n",
       "  0.9937499761581421,\n",
       "  0.996874988079071,\n",
       "  0.9984375238418579,\n",
       "  0.996874988079071,\n",
       "  1.0,\n",
       "  0.996874988079071],\n",
       " 'val_loss': [3.1197402477264404,\n",
       "  2.0931997299194336,\n",
       "  1.4826596975326538,\n",
       "  1.1404166221618652,\n",
       "  0.918610692024231,\n",
       "  0.7354239821434021,\n",
       "  0.6406370997428894,\n",
       "  0.5535019040107727,\n",
       "  0.4388819932937622,\n",
       "  0.4135858416557312,\n",
       "  0.3831828534603119,\n",
       "  0.34717321395874023,\n",
       "  0.3102615475654602,\n",
       "  0.27958163619041443,\n",
       "  0.28168174624443054,\n",
       "  0.25832265615463257,\n",
       "  0.23161666095256805,\n",
       "  0.23493941128253937,\n",
       "  0.22839750349521637,\n",
       "  0.19551463425159454,\n",
       "  0.20497092604637146,\n",
       "  0.18449392914772034,\n",
       "  0.19023984670639038,\n",
       "  0.18982526659965515,\n",
       "  0.19207413494586945,\n",
       "  0.17048346996307373,\n",
       "  0.16639502346515656,\n",
       "  0.1615528166294098,\n",
       "  0.14771147072315216,\n",
       "  0.16319704055786133],\n",
       " 'val_acc': [0.4608403444290161,\n",
       "  0.6012324690818787,\n",
       "  0.7191036343574524,\n",
       "  0.7826330661773682,\n",
       "  0.8235294222831726,\n",
       "  0.8536694645881653,\n",
       "  0.8789916038513184,\n",
       "  0.8858263492584229,\n",
       "  0.9185433983802795,\n",
       "  0.9216806888580322,\n",
       "  0.9259383678436279,\n",
       "  0.9344537854194641,\n",
       "  0.9462184906005859,\n",
       "  0.94879549741745,\n",
       "  0.9462184906005859,\n",
       "  0.9535014033317566,\n",
       "  0.959439754486084,\n",
       "  0.953837513923645,\n",
       "  0.9586554765701294,\n",
       "  0.9658263325691223,\n",
       "  0.9647058844566345,\n",
       "  0.969075620174408,\n",
       "  0.9656022191047668,\n",
       "  0.9673949480056763,\n",
       "  0.965041995048523,\n",
       "  0.9684033393859863,\n",
       "  0.9709804058074951,\n",
       "  0.9701960682868958,\n",
       "  0.9750140309333801,\n",
       "  0.9723249077796936]}"
      ]
     },
     "execution_count": 34,
     "metadata": {},
     "output_type": "execute_result"
    }
   ],
   "source": [
    "iab_history.history"
   ]
  },
  {
   "cell_type": "code",
   "execution_count": 35,
   "id": "fa537c50",
   "metadata": {},
   "outputs": [
    {
     "data": {
      "image/png": "[encoded data removed]",
      "text/plain": [
       "<Figure size 432x288 with 1 Axes>"
      ]
     },
     "metadata": {
      "needs_background": "light"
     },
     "output_type": "display_data"
    },
    {
     "data": {
      "image/png": "[encoded data removed]",
      "text/plain": [
       "<Figure size 432x288 with 1 Axes>"
      ]
     },
     "metadata": {
      "needs_background": "light"
     },
     "output_type": "display_data"
    }
   ],
   "source": [
    "printacc(iab_history)\n",
    "printloss(iab_history)"
   ]
  },
  {
   "cell_type": "code",
   "execution_count": null,
   "id": "e3a73446",
   "metadata": {},
   "outputs": [],
   "source": []
  }
 ],
 "metadata": {
  "kernelspec": {
   "display_name": "Python 3",
   "language": "python",
   "name": "python3"
  },
  "language_info": {
   "codemirror_mode": {
    "name": "ipython",
    "version": 3
   },
   "file_extension": ".py",
   "mimetype": "text/x-python",
   "name": "python",
   "nbconvert_exporter": "python",
   "pygments_lexer": "ipython3",
   "version": "3.8.8"
  }
 },
 "nbformat": 4,
 "nbformat_minor": 5
}
